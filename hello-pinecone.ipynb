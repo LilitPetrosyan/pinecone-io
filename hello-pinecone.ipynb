{
 "cells": [
  {
   "cell_type": "code",
   "execution_count": null,
   "metadata": {},
   "outputs": [],
   "source": [
    "from getpass import getpass \n",
    "import os\n",
    "pinecone_api_key = getpass('Enter your Pinecone API Key: ')\n",
    "os.environ[\"PINECONE_API_KEY\"] = pinecone_api_key"
   ]
  }
 ],
 "metadata": {
  "kernelspec": {
   "display_name": "Python 3",
   "language": "python",
   "name": "python3"
  },
  "language_info": {
   "name": "python",
   "version": "3.12.2"
  }
 },
 "nbformat": 4,
 "nbformat_minor": 2
}
